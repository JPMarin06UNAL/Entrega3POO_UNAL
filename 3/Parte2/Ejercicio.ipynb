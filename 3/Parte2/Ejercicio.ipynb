{
 "cells": [
  {
   "cell_type": "markdown",
   "metadata": {},
   "source": [
    "Se requiere un programa que modele varias figuras geométricas: el círculo, el rectángulo, el cuadrado y el triángulo rectángulo.\n",
    "\n",
    "- El círculo tiene como atributo su radio en centímetros.\n",
    "- El rectángulo, su base y altura en centímetros.\n",
    "- El cuadrado, la longitud de sus lados en centímetros.\n",
    "- El triángulo, su base y altura en centímetros.\n",
    "\n",
    "Se requieren métodos para determinar el área y el perímetro de cada figura geométrica. Además, para el triángulo rectángulo se requiere:\n",
    "\n",
    "- Un método que calcule la hipotenusa del rectángulo.\n",
    "\n",
    "- Un método para determinar qué tipo de triángulo es:\n",
    "- - Equilátero: todos sus lados son iguales.\n",
    "- - Isósceles: tiene dos lados iguales.\n",
    "- - Escaleno: todos sus lados son diferentes."
   ]
  },
  {
   "cell_type": "code",
   "execution_count": 1,
   "metadata": {},
   "outputs": [],
   "source": [
    "import tkinter as tk\n",
    "from tkinter import messagebox\n",
    "import math"
   ]
  },
  {
   "cell_type": "code",
   "execution_count": 2,
   "metadata": {},
   "outputs": [],
   "source": [
    "class Circulo:\n",
    "    def __init__(self, radio):\n",
    "        self.radio = radio\n",
    "\n",
    "    def area(self):\n",
    "        return math.pi * self.radio**2\n",
    "\n",
    "    def perimetro(self):\n",
    "        return 2 * math.pi * self.radio"
   ]
  },
  {
   "cell_type": "code",
   "execution_count": 3,
   "metadata": {},
   "outputs": [],
   "source": [
    "class Rectangulo:\n",
    "    def __init__(self, base, altura):\n",
    "        self.base = base\n",
    "        self.altura = altura\n",
    "\n",
    "    def area(self):\n",
    "        return self.base * self.altura\n",
    "\n",
    "    def perimetro(self):\n",
    "        return 2 * (self.base + self.altura)"
   ]
  },
  {
   "cell_type": "code",
   "execution_count": 4,
   "metadata": {},
   "outputs": [],
   "source": [
    "class Cuadrado:\n",
    "    def __init__(self, lado):\n",
    "        self.lado = lado\n",
    "\n",
    "    def area(self):\n",
    "        return self.lado**2\n",
    "\n",
    "    def perimetro(self):\n",
    "        return 4 * self.lado"
   ]
  },
  {
   "cell_type": "code",
   "execution_count": 5,
   "metadata": {},
   "outputs": [],
   "source": [
    "class TrianguloRectangulo:\n",
    "    def __init__(self, base, altura):\n",
    "        self.base = base\n",
    "        self.altura = altura\n",
    "\n",
    "    def area(self):\n",
    "        return (self.base * self.altura) / 2\n",
    "\n",
    "    def hipotenusa(self):\n",
    "        return math.sqrt(self.base**2 + self.altura**2)\n",
    "\n",
    "    def perimetro(self):\n",
    "        return self.base + self.altura + self.hipotenusa()\n",
    "\n",
    "    def tipo_triangulo(self):\n",
    "        lados = sorted([self.base, self.altura, self.hipotenusa()])\n",
    "        if lados[0] == lados[1] == lados[2]:\n",
    "            return \"Equilátero\"\n",
    "        elif lados[0] == lados[1] or lados[1] == lados[2]:\n",
    "            return \"Isósceles\"\n",
    "        else:\n",
    "            return \"Escaleno\""
   ]
  },
  {
   "cell_type": "code",
   "execution_count": 6,
   "metadata": {},
   "outputs": [],
   "source": [
    "class AplicacionFiguras:\n",
    "    def __init__(self, root):\n",
    "        self.root = root\n",
    "        self.root.title(\"Cálculos de Figuras Geométricas\")\n",
    "        self.root.protocol(\"WM_DELETE_WINDOW\", self.salir)\n",
    "\n",
    "        tk.Label(root, text=\"Seleccione la figura:\").grid(row=0, column=0)\n",
    "\n",
    "        self.figura_seleccionada = tk.StringVar(value=\"Circulo\")\n",
    "        opciones = [\"Circulo\", \"Rectangulo\", \"Cuadrado\", \"TrianguloRectangulo\"]\n",
    "        self.menu_figuras = tk.OptionMenu(root, self.figura_seleccionada, *opciones)\n",
    "        self.menu_figuras.grid(row=0, column=1)\n",
    "\n",
    "        tk.Label(root, text=\"Ingrese valores separados por coma (ej. radio o base,altura):\").grid(row=1, column=0)\n",
    "        self.valores_entry = tk.Entry(root)\n",
    "        self.valores_entry.grid(row=1, column=1)\n",
    "\n",
    "        self.calcular_button = tk.Button(root, text=\"Calcular\", command=self.calcular_figura)\n",
    "        self.calcular_button.grid(row=2, columnspan=2)\n",
    "\n",
    "    def calcular_figura(self):\n",
    "        figura = self.figura_seleccionada.get()\n",
    "        valores = list(map(float, self.valores_entry.get().split(\",\")))\n",
    "\n",
    "        argumentos_requeridos = {\n",
    "            \"Circulo\": 1,\n",
    "            \"Rectangulo\": 2,\n",
    "            \"Cuadrado\": 1,\n",
    "            \"TrianguloRectangulo\": 2\n",
    "        }\n",
    "\n",
    "        if len(valores) != argumentos_requeridos[figura]:\n",
    "            messagebox.showerror(\"Error\", f\"Número de parámetros incorrecto. Se esperan {argumentos_requeridos[figura]} valores para {figura}.\")\n",
    "            return\n",
    "\n",
    "        try:\n",
    "            if figura == \"Circulo\":\n",
    "                obj = Circulo(*valores)\n",
    "            elif figura == \"Rectangulo\":\n",
    "                obj = Rectangulo(*valores)\n",
    "            elif figura == \"Cuadrado\":\n",
    "                obj = Cuadrado(*valores)\n",
    "            elif figura == \"TrianguloRectangulo\":\n",
    "                obj = TrianguloRectangulo(*valores)\n",
    "\n",
    "            resultado = (f\"Área: {obj.area():.2f}\\nPerímetro: {obj.perimetro():.2f}\")\n",
    "            if figura == \"TrianguloRectangulo\":\n",
    "                resultado += (f\"\\nHipotenusa: {obj.hipotenusa():.2f}\\nTipo: {obj.tipo_triangulo()}\")\n",
    "\n",
    "            messagebox.showinfo(\"Resultado\", resultado)\n",
    "        except ValueError:\n",
    "            messagebox.showerror(\"Error\", \"Ingrese valores válidos para la figura seleccionada.\")\n",
    "\n",
    "    def salir(self):\n",
    "        if messagebox.askokcancel(\"Salir\", \"¿Desea cerrar la aplicación?\"):\n",
    "            self.root.destroy()\n"
   ]
  },
  {
   "cell_type": "code",
   "execution_count": 7,
   "metadata": {},
   "outputs": [],
   "source": [
    "root = tk.Tk()\n",
    "aplicacion = AplicacionFiguras(root)\n",
    "root.mainloop()\n"
   ]
  }
 ],
 "metadata": {
  "kernelspec": {
   "display_name": "Python 3",
   "language": "python",
   "name": "python3"
  },
  "language_info": {
   "codemirror_mode": {
    "name": "ipython",
    "version": 3
   },
   "file_extension": ".py",
   "mimetype": "text/x-python",
   "name": "python",
   "nbconvert_exporter": "python",
   "pygments_lexer": "ipython3",
   "version": "3.9.13"
  }
 },
 "nbformat": 4,
 "nbformat_minor": 2
}
