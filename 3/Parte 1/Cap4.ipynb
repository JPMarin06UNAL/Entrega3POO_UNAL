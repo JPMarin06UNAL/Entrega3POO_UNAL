{
 "cells": [
  {
   "cell_type": "markdown",
   "metadata": {},
   "source": [
    "Ejercicio resuelto #7\n",
    "\n",
    "Hacer un algoritmo que, dados dos valores numéricos A y B, escriba un mensaje diciendo si A es mayor, menor o igual a B."
   ]
  },
  {
   "cell_type": "code",
   "execution_count": 1,
   "metadata": {},
   "outputs": [],
   "source": [
    "import tkinter as tk\n",
    "from tkinter import messagebox"
   ]
  },
  {
   "cell_type": "code",
   "execution_count": 2,
   "metadata": {},
   "outputs": [],
   "source": [
    "class ComparadorNumeros:\n",
    "    def __init__(self, a, b):\n",
    "        self.a = a\n",
    "        self.b = b\n",
    "\n",
    "    def comparar(self):\n",
    "        if self.a > self.b:\n",
    "            return \"A es mayor que B\"\n",
    "        elif self.a < self.b:\n",
    "            return \"A es menor que B\"\n",
    "        else:\n",
    "            return \"A es igual a B\""
   ]
  },
  {
   "cell_type": "code",
   "execution_count": 3,
   "metadata": {},
   "outputs": [],
   "source": [
    "class AplicacionComparador:\n",
    "    def __init__(self, root):\n",
    "        self.root = root\n",
    "        self.root.title(\"Comparación de Números\")\n",
    "        self.root.protocol(\"WM_DELETE_WINDOW\", self.salir)\n",
    "\n",
    "        # Etiquetas y campos de entrada\n",
    "        tk.Label(root, text=\"Valor de A:\").grid(row=0, column=0)\n",
    "        self.a_entry = tk.Entry(root)\n",
    "        self.a_entry.grid(row=0, column=1)\n",
    "\n",
    "        tk.Label(root, text=\"Valor de B:\").grid(row=1, column=0)\n",
    "        self.b_entry = tk.Entry(root)\n",
    "        self.b_entry.grid(row=1, column=1)\n",
    "\n",
    "        # Botón para comparar\n",
    "        self.comparar_button = tk.Button(root, text=\"Comparar\", command=self.comparar_numeros)\n",
    "        self.comparar_button.grid(row=2, columnspan=2)\n",
    "\n",
    "    def comparar_numeros(self):\n",
    "        try:\n",
    "            a = float(self.a_entry.get())\n",
    "            b = float(self.b_entry.get())\n",
    "\n",
    "            comparador = ComparadorNumeros(a, b)\n",
    "            resultado = comparador.comparar()\n",
    "\n",
    "            # Mostrar resultado\n",
    "            messagebox.showinfo(\"Resultado\", resultado)\n",
    "        except ValueError:\n",
    "            messagebox.showerror(\"Error\", \"Por favor, ingrese valores numéricos válidos.\")\n",
    "\n",
    "    def salir(self):\n",
    "        if messagebox.askokcancel(\"Salir\", \"¿Desea cerrar la aplicación?\"):\n",
    "            self.root.destroy()"
   ]
  },
  {
   "cell_type": "code",
   "execution_count": 4,
   "metadata": {},
   "outputs": [],
   "source": [
    "# Crear la aplicación\n",
    "root = tk.Tk()\n",
    "aplicacion = AplicacionComparador(root)\n",
    "root.mainloop()"
   ]
  },
  {
   "cell_type": "markdown",
   "metadata": {},
   "source": [
    "Ejercicio resuelto #10\n",
    "\n",
    "Cierta universidad para liquidar el pago de matrícula de un estudiante le exige los\n",
    "siguientes datos:\n",
    "• Número de inscripción\n",
    "• Nombres\n",
    "• Patrimonio.\n",
    "• Estrato social.\n",
    "\n",
    "La universidad cobra un valor constante para cada estudiante de $50.000. Si el patrimonio\n",
    "es mayor que $2 ́000.000 y el estrato superior a 3, se le incrementa un porcentaje del 3%\n",
    "sobre el patrimonio. Hacer un algoritmo que muestre:\n",
    "\n",
    "• Número de inscripción.\n",
    "• Nombres.\n",
    "• Pago de matrícula.\n",
    "\n",
    "Análisis\n",
    "\n",
    "Datos de entrada\n",
    "• Número de inscripción.\n",
    "• Nombres.\n",
    "• Patrimonio.\n",
    "• Estrato social.\n",
    "\n",
    "Datos de salida\n",
    "• Número de inscripción.\n",
    "• Nombres.\n",
    "• Pago por matrícula.\n",
    "\n",
    "Proceso\n",
    "Inicialmente se asume que el valor a pagar es el valor constante $50.000; se hace la\n",
    "comparación del patrimonio con 2 ́000.000 y del estrato con tres; en caso de ser cierta la\n",
    "condición al valor constante se le incrementa el 3% sobre el patrimonio. Este valor\n",
    "adicional se obtiene multiplicando el patrimonio por 3 y dividiéndolo sobre 100 ó, lo que\n",
    "sería lo mismo, multiplicar 0,03 por el patrimonio."
   ]
  },
  {
   "cell_type": "code",
   "execution_count": 5,
   "metadata": {},
   "outputs": [],
   "source": [
    "import tkinter as tk\n",
    "from tkinter import messagebox"
   ]
  },
  {
   "cell_type": "code",
   "execution_count": 6,
   "metadata": {},
   "outputs": [],
   "source": [
    "class Estudiante:\n",
    "    VALOR_BASE = 50000\n",
    "    def __init__(self, inscripcion, nombres, patrimonio, estrato):\n",
    "        self.inscripcion = inscripcion\n",
    "        self.nombres = nombres\n",
    "        self.patrimonio = patrimonio\n",
    "        self.estrato = estrato\n",
    "\n",
    "    def calcular_pago_matricula(self):\n",
    "        pago = self.VALOR_BASE\n",
    "        if self.patrimonio > 2000000 and self.estrato > 3:\n",
    "            pago += 0.03 * self.patrimonio\n",
    "        return pago"
   ]
  },
  {
   "cell_type": "code",
   "execution_count": 7,
   "metadata": {},
   "outputs": [],
   "source": [
    "class AplicacionMatricula:\n",
    "    def __init__(self, root):\n",
    "        self.root = root\n",
    "        self.root.title(\"Pago de Matrícula\")\n",
    "        self.root.protocol(\"WM_DELETE_WINDOW\", self.salir)\n",
    "\n",
    "        # Etiquetas y campos de entrada\n",
    "        tk.Label(root, text=\"Número de Inscripción:\").grid(row=0, column=0)\n",
    "        self.inscripcion_entry = tk.Entry(root)\n",
    "        self.inscripcion_entry.grid(row=0, column=1)\n",
    "\n",
    "        tk.Label(root, text=\"Nombres:\").grid(row=1, column=0)\n",
    "        self.nombres_entry = tk.Entry(root)\n",
    "        self.nombres_entry.grid(row=1, column=1)\n",
    "\n",
    "        tk.Label(root, text=\"Patrimonio:\").grid(row=2, column=0)\n",
    "        self.patrimonio_entry = tk.Entry(root)\n",
    "        self.patrimonio_entry.grid(row=2, column=1)\n",
    "\n",
    "        tk.Label(root, text=\"Estrato Social:\").grid(row=3, column=0)\n",
    "        self.estrato_entry = tk.Entry(root)\n",
    "        self.estrato_entry.grid(row=3, column=1)\n",
    "\n",
    "        # Botón para calcular\n",
    "        self.calcular_button = tk.Button(root, text=\"Calcular Matrícula\", command=self.calcular_matricula)\n",
    "        self.calcular_button.grid(row=4, columnspan=2)\n",
    "\n",
    "    def calcular_matricula(self):\n",
    "        try:\n",
    "            inscripcion = self.inscripcion_entry.get()\n",
    "            nombres = self.nombres_entry.get()\n",
    "            patrimonio = float(self.patrimonio_entry.get())\n",
    "            estrato = int(self.estrato_entry.get())\n",
    "\n",
    "            estudiante = Estudiante(inscripcion, nombres, patrimonio, estrato)\n",
    "            pago = estudiante.calcular_pago_matricula()\n",
    "\n",
    "            # Mostrar resultado\n",
    "            messagebox.showinfo(\"Pago de Matrícula\", f\"Número de Inscripción: {inscripcion}\\n\"\n",
    "                                                f\"Nombres: {nombres}\\n\"\n",
    "                                                f\"Pago de Matrícula: ${pago:,.2f}\")\n",
    "        except ValueError:\n",
    "            messagebox.showerror(\"Error\", \"Por favor, ingrese valores numéricos válidos.\")\n",
    "\n",
    "    def salir(self):\n",
    "        if messagebox.askokcancel(\"Salir\", \"¿Desea cerrar la aplicación?\"):\n",
    "            self.root.destroy()"
   ]
  },
  {
   "cell_type": "code",
   "execution_count": 8,
   "metadata": {},
   "outputs": [],
   "source": [
    "# Crear la aplicación\n",
    "root = tk.Tk()\n",
    "aplicacion = AplicacionMatricula(root)\n",
    "root.mainloop()"
   ]
  },
  {
   "cell_type": "markdown",
   "metadata": {},
   "source": [
    "Ejercicio #22\n",
    "\n",
    "Elaborar un algoritmo que entre el nombre de un empleado, su salario básico por hora y el\n",
    "número de horas trabajadas en el mes; escriba su nombre y salario mensual si éste es mayor\n",
    "de $450.000, de lo contrario escriba sólo el nombre."
   ]
  },
  {
   "cell_type": "code",
   "execution_count": 9,
   "metadata": {},
   "outputs": [],
   "source": [
    "import tkinter as tk\n",
    "from tkinter import messagebox"
   ]
  },
  {
   "cell_type": "code",
   "execution_count": 10,
   "metadata": {},
   "outputs": [],
   "source": [
    "class Empleado:\n",
    "    def __init__(self, nombre, salario_por_hora, horas_trabajadas):\n",
    "        self.nombre = nombre\n",
    "        self.salario_por_hora = salario_por_hora\n",
    "        self.horas_trabajadas = horas_trabajadas\n",
    "\n",
    "    def calcular_salario_mensual(self):\n",
    "        return self.salario_por_hora * self.horas_trabajadas"
   ]
  },
  {
   "cell_type": "code",
   "execution_count": 11,
   "metadata": {},
   "outputs": [],
   "source": [
    "class AplicacionSalario:\n",
    "    def __init__(self, root):\n",
    "        self.root = root\n",
    "        self.root.title(\"Cálculo de Salario Mensual\")\n",
    "        self.root.protocol(\"WM_DELETE_WINDOW\", self.salir)\n",
    "\n",
    "        # Etiquetas y campos de entrada\n",
    "        tk.Label(root, text=\"Nombre del empleado:\").grid(row=0, column=0)\n",
    "        self.nombre_entry = tk.Entry(root)\n",
    "        self.nombre_entry.grid(row=0, column=1)\n",
    "\n",
    "        tk.Label(root, text=\"Salario por hora:\").grid(row=1, column=0)\n",
    "        self.salario_entry = tk.Entry(root)\n",
    "        self.salario_entry.grid(row=1, column=1)\n",
    "\n",
    "        tk.Label(root, text=\"Horas trabajadas al mes:\").grid(row=2, column=0)\n",
    "        self.horas_entry = tk.Entry(root)\n",
    "        self.horas_entry.grid(row=2, column=1)\n",
    "\n",
    "        # Botón para calcular\n",
    "        self.calcular_button = tk.Button(root, text=\"Calcular Salario\", command=self.calcular_salario)\n",
    "        self.calcular_button.grid(row=3, columnspan=2)\n",
    "\n",
    "    def calcular_salario(self):\n",
    "        try:\n",
    "            nombre = self.nombre_entry.get()\n",
    "            salario_por_hora = float(self.salario_entry.get())\n",
    "            horas_trabajadas = float(self.horas_entry.get())\n",
    "\n",
    "            empleado = Empleado(nombre, salario_por_hora, horas_trabajadas)\n",
    "            salario_mensual = empleado.calcular_salario_mensual()\n",
    "\n",
    "            if salario_mensual > 450000:\n",
    "                messagebox.showinfo(\"Resultado\", f\"Nombre: {nombre}\\nSalario Mensual: ${salario_mensual:,.2f}\")\n",
    "            else:\n",
    "                messagebox.showinfo(\"Resultado\", f\"Nombre: {nombre}\")\n",
    "\n",
    "        except ValueError:\n",
    "            messagebox.showerror(\"Error\", \"Por favor, ingrese valores numéricos válidos.\")\n",
    "\n",
    "    def salir(self):\n",
    "        if messagebox.askokcancel(\"Salir\", \"¿Desea cerrar la aplicación?\"):\n",
    "            self.root.destroy()"
   ]
  },
  {
   "cell_type": "code",
   "execution_count": 12,
   "metadata": {},
   "outputs": [],
   "source": [
    "# Crear la aplicación\n",
    "root = tk.Tk()\n",
    "aplicacion = AplicacionSalario(root)\n",
    "root.mainloop()"
   ]
  },
  {
   "cell_type": "markdown",
   "metadata": {},
   "source": [
    "Ejercicio #23\n",
    "\n",
    "Dados los valores A, B y C que son los parámetros de una ecuación de segundo grado,\n",
    "elaborar un algoritmo para hallar las posibles soluciones de dicha ecuación."
   ]
  },
  {
   "cell_type": "code",
   "execution_count": 13,
   "metadata": {},
   "outputs": [],
   "source": [
    "import tkinter as tk\n",
    "from tkinter import messagebox\n",
    "import math"
   ]
  },
  {
   "cell_type": "code",
   "execution_count": 14,
   "metadata": {},
   "outputs": [],
   "source": [
    "class EcuacionSegundoGrado:\n",
    "    def __init__(self, a, b, c):\n",
    "        self.a = a\n",
    "        self.b = b\n",
    "        self.c = c\n",
    "\n",
    "    def calcular_raices(self):\n",
    "        discriminante = self.b**2 - 4*self.a*self.c\n",
    "        if discriminante < 0:\n",
    "            return \"No tiene soluciones reales\"\n",
    "        elif discriminante == 0:\n",
    "            raiz = -self.b / (2 * self.a)\n",
    "            return f\"Raíz única: {raiz:.2f}\"\n",
    "        else:\n",
    "            raiz1 = (-self.b + math.sqrt(discriminante)) / (2 * self.a)\n",
    "            raiz2 = (-self.b - math.sqrt(discriminante)) / (2 * self.a)\n",
    "            return f\"Raíces: {raiz1:.2f}, {raiz2:.2f}\""
   ]
  },
  {
   "cell_type": "code",
   "execution_count": 15,
   "metadata": {},
   "outputs": [],
   "source": [
    "class AplicacionEcuacion:\n",
    "    def __init__(self, root):\n",
    "        self.root = root\n",
    "        self.root.title(\"Soluciones de Ecuación Cuadrática\")\n",
    "        self.root.protocol(\"WM_DELETE_WINDOW\", self.salir)\n",
    "\n",
    "        # Etiquetas y campos de entrada\n",
    "        tk.Label(root, text=\"Coeficiente A:\").grid(row=0, column=0)\n",
    "        self.a_entry = tk.Entry(root)\n",
    "        self.a_entry.grid(row=0, column=1)\n",
    "\n",
    "        tk.Label(root, text=\"Coeficiente B:\").grid(row=1, column=0)\n",
    "        self.b_entry = tk.Entry(root)\n",
    "        self.b_entry.grid(row=1, column=1)\n",
    "\n",
    "        tk.Label(root, text=\"Coeficiente C:\").grid(row=2, column=0)\n",
    "        self.c_entry = tk.Entry(root)\n",
    "        self.c_entry.grid(row=2, column=1)\n",
    "\n",
    "        # Botón para calcular\n",
    "        self.calcular_button = tk.Button(root, text=\"Calcular Soluciones\", command=self.calcular_soluciones)\n",
    "        self.calcular_button.grid(row=3, columnspan=2)\n",
    "\n",
    "    def calcular_soluciones(self):\n",
    "        try:\n",
    "            a = float(self.a_entry.get())\n",
    "            b = float(self.b_entry.get())\n",
    "            c = float(self.c_entry.get())\n",
    "\n",
    "            ecuacion = EcuacionSegundoGrado(a, b, c)\n",
    "            resultado = ecuacion.calcular_raices()\n",
    "\n",
    "            messagebox.showinfo(\"Resultado\", resultado)\n",
    "        except ValueError:\n",
    "            messagebox.showerror(\"Error\", \"Por favor, ingrese valores numéricos válidos.\")\n",
    "\n",
    "    def salir(self):\n",
    "        if messagebox.askokcancel(\"Salir\", \"¿Desea cerrar la aplicación?\"):\n",
    "            self.root.destroy()"
   ]
  },
  {
   "cell_type": "code",
   "execution_count": 16,
   "metadata": {},
   "outputs": [],
   "source": [
    "# Crear la aplicación\n",
    "root = tk.Tk()\n",
    "aplicacion = AplicacionEcuacion(root)\n",
    "root.mainloop()"
   ]
  },
  {
   "cell_type": "markdown",
   "metadata": {},
   "source": [
    "Ejercicio #40\n",
    "\n",
    "Encontrar la raíz cuadrada, el cuadrado y el cubo de un grupo de números enteros positivos."
   ]
  },
  {
   "cell_type": "code",
   "execution_count": 17,
   "metadata": {},
   "outputs": [],
   "source": [
    "import tkinter as tk\n",
    "from tkinter import messagebox\n",
    "import math"
   ]
  },
  {
   "cell_type": "code",
   "execution_count": 18,
   "metadata": {},
   "outputs": [],
   "source": [
    "class OperacionesNumericas:\n",
    "    def __init__(self, numeros):\n",
    "        self.numeros = numeros\n",
    "\n",
    "    def calcular_raiz_cuadrada(self):\n",
    "        return [math.sqrt(n) for n in self.numeros]\n",
    "\n",
    "    def calcular_cuadrado(self):\n",
    "        return [n**2 for n in self.numeros]\n",
    "\n",
    "    def calcular_cubo(self):\n",
    "        return [n**3 for n in self.numeros]"
   ]
  },
  {
   "cell_type": "code",
   "execution_count": 19,
   "metadata": {},
   "outputs": [],
   "source": [
    "class AplicacionNumeros:\n",
    "    def __init__(self, root):\n",
    "        self.root = root\n",
    "        self.root.title(\"Operaciones con Números\")\n",
    "        self.root.protocol(\"WM_DELETE_WINDOW\", self.salir)\n",
    "\n",
    "        # Etiquetas y campos de entrada\n",
    "        tk.Label(root, text=\"Ingrese números enteros positivos separados por comas:\").grid(row=0, column=0)\n",
    "        self.numeros_entry = tk.Entry(root)\n",
    "        self.numeros_entry.grid(row=0, column=1)\n",
    "\n",
    "        # Botón para calcular\n",
    "        self.calcular_button = tk.Button(root, text=\"Calcular\", command=self.calcular_operaciones)\n",
    "        self.calcular_button.grid(row=1, columnspan=2)\n",
    "\n",
    "    def calcular_operaciones(self):\n",
    "        try:\n",
    "            numeros = list(map(int, self.numeros_entry.get().split(\",\")))\n",
    "            if any(n <= 0 for n in numeros):\n",
    "                raise ValueError(\"Solo se permiten enteros positivos.\")\n",
    "\n",
    "            operaciones = OperacionesNumericas(numeros)\n",
    "            raices = operaciones.calcular_raiz_cuadrada()\n",
    "            cuadrados = operaciones.calcular_cuadrado()\n",
    "            cubos = operaciones.calcular_cubo()\n",
    "\n",
    "            resultado = \"\".join(\n",
    "                [f\"Número: {n}, Raíz cuadrada: {r:.2f}, Cuadrado: {c}, Cubo: {cu}\\n\"\n",
    "                 for n, r, c, cu in zip(numeros, raices, cuadrados, cubos)]\n",
    "            )\n",
    "\n",
    "            messagebox.showinfo(\"Resultados\", resultado)\n",
    "        except ValueError:\n",
    "            messagebox.showerror(\"Error\", \"Ingrese valores numéricos enteros positivos válidos.\")\n",
    "\n",
    "    def salir(self):\n",
    "        if messagebox.askokcancel(\"Salir\", \"¿Desea cerrar la aplicación?\"):\n",
    "            self.root.destroy()"
   ]
  },
  {
   "cell_type": "code",
   "execution_count": 20,
   "metadata": {},
   "outputs": [],
   "source": [
    "# Crear la aplicación\n",
    "root = tk.Tk()\n",
    "aplicacion = AplicacionNumeros(root)\n",
    "root.mainloop()"
   ]
  },
  {
   "cell_type": "markdown",
   "metadata": {},
   "source": [
    "Ejercicio #41\n",
    "\n",
    "Elaborar un algoritmo que encuentre el mayor valor entre un grupo de datos positivos."
   ]
  },
  {
   "cell_type": "code",
   "execution_count": 21,
   "metadata": {},
   "outputs": [],
   "source": [
    "import tkinter as tk\n",
    "from tkinter import messagebox"
   ]
  },
  {
   "cell_type": "code",
   "execution_count": 22,
   "metadata": {},
   "outputs": [],
   "source": [
    "class OperacionesNumericas:\n",
    "    def __init__(self, numeros):\n",
    "        self.numeros = numeros\n",
    "\n",
    "    def encontrar_maximo(self):\n",
    "        return max(self.numeros)"
   ]
  },
  {
   "cell_type": "code",
   "execution_count": 23,
   "metadata": {},
   "outputs": [],
   "source": [
    "class AplicacionNumeros:\n",
    "    def __init__(self, root):\n",
    "        self.root = root\n",
    "        self.root.title(\"Encontrar el Mayor Valor\")\n",
    "        self.root.protocol(\"WM_DELETE_WINDOW\", self.salir)\n",
    "\n",
    "        # Etiquetas y campos de entrada\n",
    "        tk.Label(root, text=\"Ingrese números enteros positivos separados por comas:\").grid(row=0, column=0)\n",
    "        self.numeros_entry = tk.Entry(root)\n",
    "        self.numeros_entry.grid(row=0, column=1)\n",
    "\n",
    "        # Botón para calcular\n",
    "        self.calcular_button = tk.Button(root, text=\"Calcular Mayor Valor\", command=self.calcular_mayor_valor)\n",
    "        self.calcular_button.grid(row=1, columnspan=2)\n",
    "\n",
    "    def calcular_mayor_valor(self):\n",
    "        try:\n",
    "            numeros = list(map(int, self.numeros_entry.get().split(\",\")))\n",
    "            if any(n <= 0 for n in numeros):\n",
    "                raise ValueError(\"Solo se permiten enteros positivos.\")\n",
    "\n",
    "            operaciones = OperacionesNumericas(numeros)\n",
    "            maximo = operaciones.encontrar_maximo()\n",
    "\n",
    "            messagebox.showinfo(\"Resultado\", f\"El mayor valor es: {maximo}\")\n",
    "        except ValueError:\n",
    "            messagebox.showerror(\"Error\", \"Ingrese valores numéricos enteros positivos válidos.\")\n",
    "\n",
    "    def salir(self):\n",
    "        if messagebox.askokcancel(\"Salir\", \"¿Desea cerrar la aplicación?\"):\n",
    "            self.root.destroy()"
   ]
  },
  {
   "cell_type": "code",
   "execution_count": 24,
   "metadata": {},
   "outputs": [],
   "source": [
    "# Crear la aplicación\n",
    "root = tk.Tk()\n",
    "aplicacion = AplicacionNumeros(root)\n",
    "root.mainloop()"
   ]
  }
 ],
 "metadata": {
  "kernelspec": {
   "display_name": "Python 3",
   "language": "python",
   "name": "python3"
  },
  "language_info": {
   "codemirror_mode": {
    "name": "ipython",
    "version": 3
   },
   "file_extension": ".py",
   "mimetype": "text/x-python",
   "name": "python",
   "nbconvert_exporter": "python",
   "pygments_lexer": "ipython3",
   "version": "3.9.13"
  }
 },
 "nbformat": 4,
 "nbformat_minor": 2
}
