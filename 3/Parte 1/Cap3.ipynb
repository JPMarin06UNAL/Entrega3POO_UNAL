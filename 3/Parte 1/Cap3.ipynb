{
 "cells": [
  {
   "cell_type": "markdown",
   "metadata": {},
   "source": [
    "Ejercicio propuesto 18\n",
    "18.Se tiene la siguiente información de un empleado:\n",
    "· código del empleado,\n",
    "· nombres,\n",
    "· número de horas trabajadas al mes,\n",
    "· valor hora trabajada,\n",
    "· porcentaje de retención en la fuente.\n",
    "\n",
    "Haga un algoritmo que muestre: código, nombres, salario bruto y salario neto."
   ]
  },
  {
   "cell_type": "code",
   "execution_count": 1,
   "metadata": {},
   "outputs": [],
   "source": [
    "import tkinter as tk\n",
    "from tkinter import messagebox\n",
    "import sys"
   ]
  },
  {
   "cell_type": "code",
   "execution_count": 2,
   "metadata": {},
   "outputs": [],
   "source": [
    "class Empleado:\n",
    "    def __init__(self, codigo, nombres, horas_trabajadas, valor_hora, retencion):\n",
    "        self.codigo = codigo\n",
    "        self.nombres = nombres\n",
    "        self.horas_trabajadas = horas_trabajadas\n",
    "        self.valor_hora = valor_hora\n",
    "        self.retencion = retencion\n",
    "\n",
    "    def calcular_salario_bruto(self):\n",
    "        return self.horas_trabajadas * self.valor_hora\n",
    "\n",
    "    def calcular_salario_neto(self):\n",
    "        salario_bruto = self.calcular_salario_bruto()\n",
    "        return salario_bruto * (1 - self.retencion / 100)\n"
   ]
  },
  {
   "cell_type": "code",
   "execution_count": 3,
   "metadata": {},
   "outputs": [],
   "source": [
    "class AplicacionEmpleado:\n",
    "    def __init__(self, root):\n",
    "        self.root = root\n",
    "        self.root.title(\"Registro de Empleado\")\n",
    "        self.root.protocol(\"WM_DELETE_WINDOW\", self.salir)  # Cierre controlado\n",
    "\n",
    "        # Definición de etiquetas y campos de entrada\n",
    "        tk.Label(root, text=\"Código del empleado:\").grid(row=0, column=0)\n",
    "        self.codigo_entry = tk.Entry(root)\n",
    "        self.codigo_entry.grid(row=0, column=1)\n",
    "\n",
    "        tk.Label(root, text=\"Nombres:\").grid(row=1, column=0)\n",
    "        self.nombres_entry = tk.Entry(root)\n",
    "        self.nombres_entry.grid(row=1, column=1)\n",
    "\n",
    "        tk.Label(root, text=\"Horas trabajadas al mes:\").grid(row=2, column=0)\n",
    "        self.horas_trabajadas_entry = tk.Entry(root)\n",
    "        self.horas_trabajadas_entry.grid(row=2, column=1)\n",
    "\n",
    "        tk.Label(root, text=\"Valor por hora:\").grid(row=3, column=0)\n",
    "        self.valor_hora_entry = tk.Entry(root)\n",
    "        self.valor_hora_entry.grid(row=3, column=1)\n",
    "\n",
    "        tk.Label(root, text=\"% Retención en la fuente:\").grid(row=4, column=0)\n",
    "        self.retencion_entry = tk.Entry(root)\n",
    "        self.retencion_entry.grid(row=4, column=1)\n",
    "\n",
    "        # Botón para calcular\n",
    "        self.calcular_button = tk.Button(root, text=\"Calcular Salarios\", command=self.calcular_salarios)\n",
    "        self.calcular_button.grid(row=5, columnspan=2)\n",
    "    def calcular_salarios(self):\n",
    "        try:\n",
    "            # Captura de datos y creación del objeto\n",
    "            codigo = self.codigo_entry.get()\n",
    "            nombres = self.nombres_entry.get()\n",
    "            horas_trabajadas = float(self.horas_trabajadas_entry.get())\n",
    "            valor_hora = float(self.valor_hora_entry.get())\n",
    "            retencion = float(self.retencion_entry.get())\n",
    "\n",
    "            empleado = Empleado(codigo, nombres, horas_trabajadas, valor_hora, retencion)\n",
    "\n",
    "            # Cálculos\n",
    "            salario_bruto = empleado.calcular_salario_bruto()\n",
    "            salario_neto = empleado.calcular_salario_neto()\n",
    "\n",
    "            # Mostrar resultados\n",
    "            messagebox.showinfo(\"Resultados\", f\"Código: {codigo}\\n\"\n",
    "                                            f\"Nombres: {nombres}\\n\"\n",
    "                                            f\"Salario Bruto: ${salario_bruto:,.2f}\\n\"\n",
    "                                            f\"Salario Neto: ${salario_neto:,.2f}\")\n",
    "        except ValueError:\n",
    "            messagebox.showerror(\"Error\", \"Por favor, ingrese valores numéricos válidos.\")\n",
    "    def salir(self):\n",
    "        if messagebox.askokcancel(\"Salir\", \"¿Desea cerrar la aplicación?\"):\n",
    "            self.root.destroy()\n",
    "            sys.exit()"
   ]
  },
  {
   "cell_type": "code",
   "execution_count": 4,
   "metadata": {},
   "outputs": [
    {
     "ename": "SystemExit",
     "evalue": "",
     "output_type": "error",
     "traceback": [
      "An exception has occurred, use %tb to see the full traceback.\n",
      "\u001b[1;31mSystemExit\u001b[0m\n"
     ]
    },
    {
     "name": "stderr",
     "output_type": "stream",
     "text": [
      "C:\\Users\\USER\\AppData\\Local\\Packages\\PythonSoftwareFoundation.Python.3.9_qbz5n2kfra8p0\\LocalCache\\local-packages\\Python39\\site-packages\\IPython\\core\\interactiveshell.py:3534: UserWarning: To exit: use 'exit', 'quit', or Ctrl-D.\n",
      "  warn(\"To exit: use 'exit', 'quit', or Ctrl-D.\", stacklevel=1)\n"
     ]
    }
   ],
   "source": [
    "# Crear la aplicación\n",
    "root = tk.Tk()\n",
    "aplicacion = AplicacionEmpleado(root)\n",
    "root.mainloop()"
   ]
  },
  {
   "cell_type": "markdown",
   "metadata": {},
   "source": [
    "Ejercicio propuesto 19\n",
    "Dado el valor del lado en un triángulo equilátero, haga un algoritmo que obtenga el perímetro, el valor de la altura y el área del triángulo."
   ]
  },
  {
   "cell_type": "code",
   "execution_count": 5,
   "metadata": {},
   "outputs": [],
   "source": [
    "import tkinter as tk\n",
    "from tkinter import messagebox\n",
    "import math"
   ]
  },
  {
   "cell_type": "code",
   "execution_count": 6,
   "metadata": {},
   "outputs": [],
   "source": [
    "class TrianguloEquilatero:\n",
    "    def __init__(self, lado):\n",
    "        self.lado = lado\n",
    "\n",
    "    def calcular_perimetro(self):\n",
    "        return 3 * self.lado\n",
    "\n",
    "    def calcular_altura(self):\n",
    "        return (math.sqrt(3) / 2) * self.lado\n",
    "\n",
    "    def calcular_area(self):\n",
    "        return (self.calcular_altura() * self.lado) / 2"
   ]
  },
  {
   "cell_type": "code",
   "execution_count": 7,
   "metadata": {},
   "outputs": [],
   "source": [
    "class AplicacionTriangulo:\n",
    "    def __init__(self, root):\n",
    "        self.root = root\n",
    "        self.root.title(\"Cálculos Triángulo Equilátero\")\n",
    "        self.root.protocol(\"WM_DELETE_WINDOW\", self.salir)  # Cierre seguro\n",
    "\n",
    "        # Definición de etiquetas y campos de entrada\n",
    "        tk.Label(root, text=\"Valor del lado:\").grid(row=0, column=0)\n",
    "        self.lado_entry = tk.Entry(root)\n",
    "        self.lado_entry.grid(row=0, column=1)\n",
    "\n",
    "        # Botón para calcular\n",
    "        self.calcular_button = tk.Button(root, text=\"Calcular\", command=self.calcular_triangulo)\n",
    "        self.calcular_button.grid(row=1, columnspan=2)\n",
    "\n",
    "    def calcular_triangulo(self):\n",
    "        try:\n",
    "            lado = float(self.lado_entry.get())\n",
    "            triangulo = TrianguloEquilatero(lado)\n",
    "\n",
    "            perimetro = triangulo.calcular_perimetro()\n",
    "            altura = triangulo.calcular_altura()\n",
    "            area = triangulo.calcular_area()\n",
    "\n",
    "            # Mostrar resultados\n",
    "            messagebox.showinfo(\"Resultados\", f\"Perímetro: {perimetro:.2f}\\nAltura: {altura:.2f}\\nÁrea: {area:.2f}\")\n",
    "        except ValueError:\n",
    "            messagebox.showerror(\"Error\", \"Por favor, ingrese un valor numérico válido.\")\n",
    "\n",
    "    def salir(self):\n",
    "        if messagebox.askokcancel(\"Salir\", \"¿Desea cerrar la aplicación?\"):\n",
    "            self.root.destroy()\n",
    "            sys.exit()"
   ]
  },
  {
   "cell_type": "code",
   "execution_count": 8,
   "metadata": {},
   "outputs": [
    {
     "ename": "SystemExit",
     "evalue": "",
     "output_type": "error",
     "traceback": [
      "An exception has occurred, use %tb to see the full traceback.\n",
      "\u001b[1;31mSystemExit\u001b[0m\n"
     ]
    }
   ],
   "source": [
    "# Crear la aplicación\n",
    "root = tk.Tk()\n",
    "aplicacion = AplicacionTriangulo(root)\n",
    "root.mainloop()"
   ]
  }
 ],
 "metadata": {
  "kernelspec": {
   "display_name": "Python 3",
   "language": "python",
   "name": "python3"
  },
  "language_info": {
   "codemirror_mode": {
    "name": "ipython",
    "version": 3
   },
   "file_extension": ".py",
   "mimetype": "text/x-python",
   "name": "python",
   "nbconvert_exporter": "python",
   "pygments_lexer": "ipython3",
   "version": "3.9.13"
  }
 },
 "nbformat": 4,
 "nbformat_minor": 2
}
